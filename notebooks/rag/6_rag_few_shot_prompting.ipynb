{
 "cells": [
  {
   "cell_type": "code",
   "execution_count": null,
   "metadata": {},
   "outputs": [],
   "source": [
    "import os\n",
    "import shutil\n",
    "from langchain.document_loaders import PyPDFLoader\n",
    "from langchain.text_splitter import CharacterTextSplitter, RecursiveCharacterTextSplitter\n",
    "\n",
    "from langchain.embeddings import HuggingFaceBgeEmbeddings\n",
    "from langchain.vectorstores import Chroma\n",
    "from langchain.storage import InMemoryStore\n",
    "from langchain.retrievers import ParentDocumentRetriever\n",
    "from langchain.docstore.document import Document\n",
    "\n",
    "from dotenv import load_dotenv\n",
    "from langchain_openai.chat_models import ChatOpenAI\n",
    "from langchain.prompts.chat import ChatPromptTemplate, SystemMessagePromptTemplate, HumanMessagePromptTemplate\n",
    "from langchain.globals import set_llm_cache\n",
    "from langchain.cache import InMemoryCache"
   ]
  },
  {
   "cell_type": "code",
   "execution_count": null,
   "metadata": {},
   "outputs": [],
   "source": [
    "load_dotenv()\n",
    "chat = ChatOpenAI()\n",
    "set_llm_cache(InMemoryCache())"
   ]
  },
  {
   "cell_type": "code",
   "execution_count": null,
   "metadata": {},
   "outputs": [],
   "source": [
    "pdf_filepath = \"../datasets/the_importance_of_being_earnest.pdf\"\n",
    "\n",
    "loader = PyPDFLoader(file_path=pdf_filepath)\n",
    "\n",
    "data = loader.load()\n",
    "\n",
    "data"
   ]
  },
  {
   "cell_type": "code",
   "execution_count": null,
   "metadata": {},
   "outputs": [],
   "source": [
    "full_data = \"\\n\".join([doc.page_content.replace('\\t', \" \") for doc in data])\n",
    "full_data = \"\\n\".join([line.strip() for line in full_data.split('\\n')])"
   ]
  },
  {
   "cell_type": "code",
   "execution_count": null,
   "metadata": {},
   "outputs": [],
   "source": [
    "print(full_data)"
   ]
  },
  {
   "cell_type": "code",
   "execution_count": null,
   "metadata": {},
   "outputs": [],
   "source": [
    "start_idx = len(\"\"\"The Importance of Being Earnest\n",
    "A Trivial Comedy for Serious People\n",
    "\n",
    "\n",
    "Oscar Wilde\n",
    "\n",
    "\n",
    "\n",
    "THE PERSONS IN THE PLAY\n",
    "\n",
    "John Worthing, J.P.\n",
    "Algernon Moncrieff\n",
    "Rev. Canon Chasuble, D.D.\n",
    "Merriman, Butler\n",
    "Lane, Manservant\n",
    "Lady Bracknell\n",
    "Hon. Gwendolen Fairfax\n",
    "Cecily Cardew\n",
    "Miss Prism, Governess\n",
    "\n",
    "\n",
    "THE SCENES OF THE PLAY\n",
    "\n",
    "ACT I.  Algernon Moncrieff’s Flat in Half-Moon Street, W.\n",
    "ACT II.  The Garden at the Manor House, Woolton.\n",
    "ACT III.  Drawing-Room at the Manor House, Woolton.\n",
    "TIME: The Present.\n",
    "FIRST ACT\n",
    "SCENE\n",
    "Morning-room in Algernon’s flat in Half-Moon Street.  The room is luxuriously\n",
    "and artistically furnished.  The sound of a piano is heard in the adjoining\n",
    "room.\n",
    "[Lane is arranging afternoon tea on the table, and after the music has ceased,\n",
    "Algernon enters.]\n",
    "\n",
    "\"\"\")\n",
    "\n",
    "start_idx"
   ]
  },
  {
   "cell_type": "code",
   "execution_count": null,
   "metadata": {},
   "outputs": [],
   "source": [
    "end_idx = len(\"\"\"\n",
    "\n",
    "\n",
    "Liked This Book?\n",
    "For More FREE e-Books visit\n",
    "Freeditorial.com\"\"\")\n",
    "\n",
    "end_idx"
   ]
  },
  {
   "cell_type": "code",
   "execution_count": null,
   "metadata": {},
   "outputs": [],
   "source": [
    "full_data = full_data[start_idx:-end_idx]\n",
    "\n",
    "print(full_data)"
   ]
  },
  {
   "cell_type": "code",
   "execution_count": null,
   "metadata": {},
   "outputs": [],
   "source": [
    "parent_text_splitter = CharacterTextSplitter(\n",
    "    separator=r\"\\w+\\.\\n\",\n",
    "    chunk_size=1200,\n",
    "    chunk_overlap=100,\n",
    "    length_function=len,\n",
    "    is_separator_regex=True,\n",
    "    keep_separator=True\n",
    ")\n",
    "\n",
    "parent_docs = parent_text_splitter.create_documents(texts=[full_data])\n",
    "\n",
    "parent_docs"
   ]
  },
  {
   "cell_type": "code",
   "execution_count": null,
   "metadata": {},
   "outputs": [],
   "source": [
    "child_text_splitter = RecursiveCharacterTextSplitter(\n",
    "    separators=[r'Algernon\\.\\n(.*?)\\n(?:[A-Z][a-z]+\\.\\n|$)', r\"\\w+\\.\\n\"],\n",
    "    chunk_size=1000,\n",
    "    chunk_overlap=0,\n",
    "    length_function=len,\n",
    "    is_separator_regex=True,\n",
    "    keep_separator=False\n",
    ")\n",
    "\n",
    "child_docs = child_text_splitter.create_documents(texts=[full_data])"
   ]
  },
  {
   "cell_type": "code",
   "execution_count": null,
   "metadata": {},
   "outputs": [],
   "source": [
    "model_name = \"BAAI/bge-large-en-v1.5\"\n",
    "model_kwargs = {'device': 'cpu'}\n",
    "encode_kwargs = {\"normalize_embeddings\": True}\n",
    "\n",
    "embedding_function = HuggingFaceBgeEmbeddings(\n",
    "    model_name=model_name,\n",
    "    model_kwargs=model_kwargs,\n",
    "    encode_kwargs=encode_kwargs\n",
    ")\n",
    "\n",
    "db_dirpath = \"../output/the_importance_of_being_earnest.db\"\n",
    "\n",
    "if os.path.isdir(db_dirpath):\n",
    "    shutil.rmtree(db_dirpath)\n",
    "    \n",
    "db = Chroma(persist_directory=db_dirpath, embedding_function=embedding_function)\n",
    "store = InMemoryStore()\n",
    "\n",
    "par_doc_retriever = ParentDocumentRetriever(\n",
    "    vectorstore=db, \n",
    "    docstore=store, \n",
    "    child_splitter=child_text_splitter, \n",
    "    parent_splitter=parent_text_splitter\n",
    ")\n",
    "\n",
    "full_doc = Document(page_content=full_data, metadata = {\"source\": pdf_filepath})\n",
    "\n",
    "par_doc_retriever.add_documents([full_doc])"
   ]
  },
  {
   "cell_type": "code",
   "execution_count": null,
   "metadata": {},
   "outputs": [],
   "source": [
    "query = \"The work is getting difficult day by day\""
   ]
  },
  {
   "cell_type": "code",
   "execution_count": null,
   "metadata": {},
   "outputs": [],
   "source": [
    "# Let's create a function\n",
    "\n",
    "def get_algernon_response(query):\n",
    "    \n",
    "    prompt = \"\"\"Respond like Algernon\n",
    "\n",
    "    Refer to the below in triple backticks\n",
    "    ```\n",
    "    {conversations}\n",
    "    ```\n",
    "\n",
    "    Here is my dialogue:\n",
    "    {query}\n",
    "\n",
    "    Just return the response as a plain string and nothing else\"\"\"\n",
    "    \n",
    "    matched_docs = par_doc_retriever.get_relevant_documents(query=query)\n",
    "    res_conversations = [doc.page_content for doc in matched_docs if \"Algernon.\" in doc.page_content]\n",
    "    conversations = \"\\n\\n\".join([\"\\n\".join([f\"Conversation {i+1}:\", conv]) for i, conv in enumerate(res_conversations)])\n",
    "\n",
    "    human_message_prompt = HumanMessagePromptTemplate.from_template(prompt)\n",
    "    chat_prompt = ChatPromptTemplate.from_messages([human_message_prompt])\n",
    "    prompt = chat_prompt.format_prompt(query=query, conversations=conversations)\n",
    "    response = chat(messages = prompt.to_messages()).content\n",
    "    return response"
   ]
  },
  {
   "cell_type": "code",
   "execution_count": null,
   "metadata": {},
   "outputs": [],
   "source": [
    "get_algernon_response(query)"
   ]
  },
  {
   "cell_type": "code",
   "execution_count": null,
   "metadata": {},
   "outputs": [],
   "source": [
    "get_algernon_response(\"The sky is beautiful in London\")"
   ]
  },
  {
   "cell_type": "code",
   "execution_count": null,
   "metadata": {},
   "outputs": [],
   "source": []
  }
 ],
 "metadata": {
  "kernelspec": {
   "display_name": "Python 3",
   "language": "python",
   "name": "python3"
  },
  "language_info": {
   "codemirror_mode": {
    "name": "ipython",
    "version": 3
   },
   "file_extension": ".py",
   "mimetype": "text/x-python",
   "name": "python",
   "nbconvert_exporter": "python",
   "pygments_lexer": "ipython3",
   "version": "3.9.18"
  }
 },
 "nbformat": 4,
 "nbformat_minor": 2
}
