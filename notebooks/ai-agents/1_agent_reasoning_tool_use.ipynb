{
 "cells": [
  {
   "cell_type": "markdown",
   "id": "598ebc0c",
   "metadata": {},
   "source": [
    "# Agent Reasoning and Tool Use: From Prompt to Action\n",
    "\n",
    "Large Language Models (LLMs) are powerful, but they have limitations when used as simple one-shot question-answering systems. For example, if you ask:\n",
    "\n",
    "> “What’s the weather in New York and should I wear a jacket?”\n",
    "\n",
    "A single LLM call can't access real-time weather or make nuanced recommendations. **Agents** solve this by breaking the task into smaller steps, using reasoning and external tools to deliver actionable answers. This notebook brings these concepts to life with a simple, working example."
   ]
  },
  {
   "cell_type": "markdown",
   "id": "6c56561b",
   "metadata": {},
   "source": [
    "## 1. Simulate the \"LLM-only\" Limitation\n",
    "\n",
    "Let's see what happens when we rely on a single LLM call to answer a complex, real-world question. We'll define a simple function that mimics an LLM's response when it can't access external information."
   ]
  },
  {
   "cell_type": "code",
   "execution_count": 6,
   "id": "efa2838c",
   "metadata": {},
   "outputs": [
    {
     "name": "stdout",
     "output_type": "stream",
     "text": [
      "LLM-only response:\n",
      "I'm an AI language model and do not have access to current weather data.\n"
     ]
    }
   ],
   "source": [
    "# Simulate a single-pass LLM call (no tools, no real-world access)\n",
    "def llm_call(prompt):\n",
    "    \"\"\"Mock LLM: returns a generic response if asked for real-world info.\"\"\"\n",
    "    if \"weather\" in prompt.lower():\n",
    "        return \"I'm an AI language model and do not have access to current weather data.\"\n",
    "    return \"I'm an AI language model and can answer general questions.\"\n",
    "\n",
    "# Example: complex query\n",
    "query = \"What’s the weather in New York and should I wear a jacket?\"\n",
    "print(\"LLM-only response:\")\n",
    "print(llm_call(query))"
   ]
  },
  {
   "cell_type": "markdown",
   "id": "2e85e15e",
   "metadata": {},
   "source": [
    "## 2. Implement a Toy Agent with Chained Reasoning\n",
    "\n",
    "Now, let's build a simple agent that can break down the query into steps:\n",
    "1. Understand the user's intent\n",
    "2. Plan what to do\n",
    "3. Execute each step (using tools)\n",
    "4. Synthesize the final answer\n",
    "\n",
    "We'll use mocked LLM calls to simulate reasoning at each stage."
   ]
  },
  {
   "cell_type": "code",
   "execution_count": 2,
   "id": "0f75156e",
   "metadata": {},
   "outputs": [
    {
     "name": "stdout",
     "output_type": "stream",
     "text": [
      "Step 1: Understanding intent...\n",
      "  Intent: User wants to know the weather in New York and get clothing advice.\n",
      "Step 2: Planning actions...\n",
      "  Plan: ['Get weather for New York', 'Advise on clothing']\n",
      "Step 3: Executing steps...\n",
      "  WeatherTool: (weather data not yet implemented)\n",
      "  AdviceTool: (advice not yet implemented)\n",
      "Step 4: Synthesizing final result...\n",
      "  Result: (final answer not yet implemented)\n"
     ]
    }
   ],
   "source": [
    "def agent_process(query):\n",
    "    \"\"\"\n",
    "    Simulate an agent that:\n",
    "    1. Understands intent\n",
    "    2. Plans steps\n",
    "    3. Executes steps (calls tools)\n",
    "    4. Synthesizes the result\n",
    "    \"\"\"\n",
    "    print(\"Step 1: Understanding intent...\")\n",
    "    intent = f\"User wants to know the weather in New York and get clothing advice.\"\n",
    "    print(f\"  Intent: {intent}\")\n",
    "\n",
    "    print(\"Step 2: Planning actions...\")\n",
    "    plan = [\"Get weather for New York\", \"Advise on clothing\"]\n",
    "    print(f\"  Plan: {plan}\")\n",
    "\n",
    "    print(\"Step 3: Executing steps...\")\n",
    "    # We'll call mock tools in the next section\n",
    "    weather = \"(weather data not yet implemented)\"\n",
    "    advice = \"(advice not yet implemented)\"\n",
    "    print(f\"  WeatherTool: {weather}\")\n",
    "    print(f\"  AdviceTool: {advice}\")\n",
    "\n",
    "    print(\"Step 4: Synthesizing final result...\")\n",
    "    result = \"(final answer not yet implemented)\"\n",
    "    print(f\"  Result: {result}\")\n",
    "\n",
    "# Run the agent process (tools will be added next)\n",
    "agent_process(\"What’s the weather in New York and should I wear a jacket?\")"
   ]
  },
  {
   "cell_type": "markdown",
   "id": "bd9379da",
   "metadata": {},
   "source": [
    "## 3. Create Mock Tools\n",
    "\n",
    "Agents use tools to access real-world data and make decisions. We'll define two simple tools:\n",
    "- `WeatherTool`: Returns hardcoded weather for New York\n",
    "- `AdviceTool`: Recommends clothing based on weather\n",
    "\n",
    "Each tool will be a Python class with an `.execute()` method."
   ]
  },
  {
   "cell_type": "code",
   "execution_count": 4,
   "id": "5cfdd6cd",
   "metadata": {},
   "outputs": [],
   "source": [
    "# Mock tool: returns hardcoded weather data for New York\n",
    "class WeatherTool:\n",
    "    def execute(self, location):\n",
    "        if location.lower() == \"new york\":\n",
    "            return {\"temp_f\": 72, \"condition\": \"sunny\"}\n",
    "        return {\"temp_f\": 65, \"condition\": \"cloudy\"}\n",
    "\n",
    "# Mock tool: recommends clothing based on weather\n",
    "class AdviceTool:\n",
    "    def execute(self, weather):\n",
    "        temp = weather[\"temp_f\"]\n",
    "        condition = weather[\"condition\"]\n",
    "        if temp < 60:\n",
    "            return \"Wear a warm jacket.\"\n",
    "        elif temp < 75:\n",
    "            if condition == \"sunny\":\n",
    "                return \"A light jacket would be perfect!\"\n",
    "            else:\n",
    "                return \"A sweater or light jacket is recommended.\"\n",
    "        else:\n",
    "            return \"No jacket needed. Dress comfortably.\"\n",
    "\n",
    "# Instantiate tools\n",
    "weather_tool = WeatherTool()\n",
    "advice_tool = AdviceTool()"
   ]
  },
  {
   "cell_type": "markdown",
   "id": "314b847a",
   "metadata": {},
   "source": [
    "## 4. Run the Full Example\n",
    "\n",
    "Let's put it all together! We'll update our agent to use the tools and show each step of its reasoning process for the query:\n",
    "\n",
    "> \"What’s the weather in New York and should I wear a jacket?\"\n",
    "\n",
    "Watch the print output to see how the agent thinks and acts."
   ]
  },
  {
   "cell_type": "code",
   "execution_count": 7,
   "id": "9567dbc4",
   "metadata": {},
   "outputs": [
    {
     "name": "stdout",
     "output_type": "stream",
     "text": [
      "\n",
      "--- Agent Reasoning Demo ---\n",
      "Step 1: Understanding intent...\n",
      "  Intent: User wants to know the weather in New York and get clothing advice.\n",
      "Step 2: Planning actions...\n",
      "  Plan: ['Get weather for New York', 'Advise on clothing']\n",
      "Step 3: Executing steps...\n",
      "  WeatherTool: 72°F and sunny\n",
      "  AdviceTool: A light jacket would be perfect!\n",
      "Step 4: Synthesizing final result...\n",
      "  Result: It's 72°F and sunny. A light jacket would be perfect!\n",
      "\n",
      "Final Output:\n",
      "It's 72°F and sunny. A light jacket would be perfect!\n"
     ]
    }
   ],
   "source": [
    "def agent_process(query):\n",
    "    print(\"Step 1: Understanding intent...\")\n",
    "    intent = \"User wants to know the weather in New York and get clothing advice.\"\n",
    "    print(f\"  Intent: {intent}\")\n",
    "\n",
    "    print(\"Step 2: Planning actions...\")\n",
    "    plan = [\"Get weather for New York\", \"Advise on clothing\"]\n",
    "    print(f\"  Plan: {plan}\")\n",
    "\n",
    "    print(\"Step 3: Executing steps...\")\n",
    "    weather = weather_tool.execute(\"New York\")\n",
    "    print(f\"  WeatherTool: {weather['temp_f']}°F and {weather['condition']}\")\n",
    "    advice = advice_tool.execute(weather)\n",
    "    print(f\"  AdviceTool: {advice}\")\n",
    "\n",
    "    print(\"Step 4: Synthesizing final result...\")\n",
    "    result = f\"It's {weather['temp_f']}°F and {weather['condition']}. {advice}\"\n",
    "    print(f\"  Result: {result}\")\n",
    "    return result\n",
    "\n",
    "# Run the full agent example\n",
    "print(\"\\n--- Agent Reasoning Demo ---\")\n",
    "final_answer = agent_process(\"What’s the weather in New York and should I wear a jacket?\")\n",
    "print(\"\\nFinal Output:\")\n",
    "print(final_answer)"
   ]
  },
  {
   "cell_type": "markdown",
   "id": "3e384d94",
   "metadata": {},
   "source": [
    "## 5. Concept Summary\n",
    "\n",
    "- 🔄 **Chained Reasoning**: The agent breaks down the problem into steps (intent, plan, execute, synthesize).\n",
    "- 🔧 **Tool Integration**: The agent calls code (tools) to access real-world data and make decisions.\n",
    "- 💬 **Synthesis**: The agent combines information from multiple steps to produce a useful answer.\n",
    "\n",
    "This approach turns the agent into a pipeline, not a black box—mirroring the agentic workflow theory from the tutorial. Agents can reason, plan, and act, going far beyond what a single LLM call can do."
   ]
  },
  {
   "cell_type": "markdown",
   "id": "d3552467",
   "metadata": {},
   "source": [
    "## 6. (Optional Bonus) Dynamic Tool Selection\n",
    "\n",
    "Agents can be even more flexible by keeping a dictionary of available tools and selecting which to use at runtime. Let's see how that might look."
   ]
  },
  {
   "cell_type": "code",
   "execution_count": null,
   "id": "71dac080",
   "metadata": {},
   "outputs": [],
   "source": [
    "# Dictionary of available tools\n",
    "TOOLS = {\n",
    "    \"weather\": weather_tool,\n",
    "    \"advice\": advice_tool\n",
    "}\n",
    "\n",
    "def agent_process_dynamic(query):\n",
    "    print(\"Step 1: Understanding intent...\")\n",
    "    intent = \"User wants to know the weather in New York and get clothing advice.\"\n",
    "    print(f\"  Intent: {intent}\")\n",
    "\n",
    "    print(\"Step 2: Planning actions...\")\n",
    "    plan = [\"weather\", \"advice\"]  # Plan refers to tool names\n",
    "    print(f\"  Plan: {plan}\")\n",
    "\n",
    "    print(\"Step 3: Executing steps dynamically...\")\n",
    "    weather = TOOLS[plan[0]].execute(\"New York\")\n",
    "    print(f\"  WeatherTool: {weather['temp_f']}°F and {weather['condition']}\")\n",
    "    advice = TOOLS[plan[1]].execute(weather)\n",
    "    print(f\"  AdviceTool: {advice}\")\n",
    "\n",
    "    print(\"Step 4: Synthesizing final result...\")\n",
    "    result = f\"It's {weather['temp_f']}°F and {weather['condition']}. {advice}\"\n",
    "    print(f\"  Result: {result}\")\n",
    "    return result\n",
    "\n",
    "# Run the dynamic agent example\n",
    "print(\"\\n--- Dynamic Tool Selection Demo ---\")\n",
    "final_answer = agent_process_dynamic(\"What’s the weather in New York and should I wear a jacket?\")\n",
    "print(\"\\nFinal Output:\")\n",
    "print(final_answer)"
   ]
  }
 ],
 "metadata": {
  "kernelspec": {
   "display_name": "Python 3",
   "language": "python",
   "name": "python3"
  },
  "language_info": {
   "codemirror_mode": {
    "name": "ipython",
    "version": 3
   },
   "file_extension": ".py",
   "mimetype": "text/x-python",
   "name": "python",
   "nbconvert_exporter": "python",
   "pygments_lexer": "ipython3",
   "version": "3.12.10"
  }
 },
 "nbformat": 4,
 "nbformat_minor": 5
}
